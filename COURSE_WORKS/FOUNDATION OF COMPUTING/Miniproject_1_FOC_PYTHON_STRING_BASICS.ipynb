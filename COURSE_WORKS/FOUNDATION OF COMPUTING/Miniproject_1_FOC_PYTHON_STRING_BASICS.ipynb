{
  "nbformat": 4,
  "nbformat_minor": 0,
  "metadata": {
    "colab": {
      "provenance": []
    },
    "kernelspec": {
      "name": "python3",
      "display_name": "Python 3"
    },
    "language_info": {
      "name": "python"
    }
  },
  "cells": [
    {
      "cell_type": "code",
      "execution_count": 25,
      "metadata": {
        "colab": {
          "base_uri": "https://localhost:8080/"
        },
        "id": "_sMjKV-Bw9J7",
        "outputId": "f3dbbe82-9d0f-4593-bdf0-771f49a3551b"
      },
      "outputs": [
        {
          "output_type": "stream",
          "name": "stdout",
          "text": [
            "Enter your Name: Nivas\n",
            "Welcome,  Nivas\n",
            "Message = Hi, Hello There\n",
            "Letter = E\n",
            "Count value of the letter in the message:  3\n",
            "Percentage of Letter present in message:  20.0\n"
          ]
        }
      ],
      "source": [
        "user_name = input(\"Enter your Name: \")\n",
        "print(\"Welcome, \",user_name)\n",
        "message, letter = input(\"Message = \"), input(\"Letter = \")\n",
        "print(\"Count value of the letter in the message: \", message.count(letter.lower()))\n",
        "print(\"Percentage of Letter present in message: \", (message.count(letter.lower())/len(message))*100)"
      ]
    },
    {
      "cell_type": "code",
      "source": [
        "import re\n",
        "sample_message = \"\"\"I made myself a snowball\n",
        "As perfect as could be.\n",
        "I thought I'd keep it as a pet\n",
        "And let it sleep with me.\n",
        "I made it some pajamas\n",
        "And a pillow for its head.\n",
        "Then last night it ran away,\n",
        "But first it wet the bed.\"\"\"\n",
        "word = \"it\"\n",
        "#for ct,i in enumerate (sample_message):\n",
        "  #print(ct+1,'---',i)\n",
        "it_count = sum(1 for _ in re.finditer(r'\\b%s[!,?.\"\\\"]*\\s' % re.escape(word), sample_message))\n",
        "print(\"No.of.Times Word 'It' present in Message: \",it_count)\n",
        "len_poe = len(sample_message)\n",
        "print(\"Total Length of String: \", len_poe)\n",
        "find_it = re.findall(r\"[\\w']+|[.,!?;]\", sample_message)\n",
        "print(find_it)\n",
        "it_frst  = find_it.index('it')\n",
        "print(\"It First Occurence word by Word: \", it_frst+1)\n",
        "it_first = sample_message.find('it')\n",
        "print(\"First Occurence of the Word 'IT' using Find Method : \", it_first+1)\n",
        "i_lst  = max(value for value, finder in enumerate(find_it) if finder == 'I')\n",
        "print(\"I Last Occurence word by Word: \", i_lst+1)\n",
        "i_last = sample_message.rfind('I')\n",
        "print(\"Last Occurence of the Word 'I' using Rfind Method : \", i_last+1)\n",
        "\n",
        "# print(find_it,len(find_it))\n",
        "# given_word = \"I\"\n",
        "# regex_occurance = [index.start(0) for index in re.finditer(r'\\b%s\\b' % given_word, sample_message)]\n",
        "# print(regex_occurance)\n",
        "# find_word = re.findall(r\"[\\w']+|[.,!?;]\", sample_message)\n",
        "# print(find_word)"
      ],
      "metadata": {
        "colab": {
          "base_uri": "https://localhost:8080/"
        },
        "id": "cMT6JLGa0sJH",
        "outputId": "25b36f8a-8d1f-4814-898e-4665961d1931"
      },
      "execution_count": null,
      "outputs": [
        {
          "output_type": "stream",
          "name": "stdout",
          "text": [
            "No.of.Times Word 'It' present in Message:  5\n",
            "Total Length of String:  210\n",
            "['I', 'made', 'myself', 'a', 'snowball', 'As', 'perfect', 'as', 'could', 'be', '.', 'I', 'thought', \"I'd\", 'keep', 'it', 'as', 'a', 'pet', 'And', 'let', 'it', 'sleep', 'with', 'me', '.', 'I', 'made', 'it', 'some', 'pajamas', 'And', 'a', 'pillow', 'for', 'its', 'head', '.', 'Then', 'last', 'night', 'it', 'ran', 'away', ',', 'But', 'first', 'it', 'wet', 'the', 'bed', '.']\n",
            "It First Occurence word by Word:  16\n",
            "First Occurence of the Word 'IT' using Find Method :  69\n",
            "I Last Occurence word by Word:  27\n",
            "Last Occurence of the Word 'I' using Rfind Method :  107\n"
          ]
        }
      ]
    },
    {
      "cell_type": "code",
      "source": [
        "from datetime import datetime, date\n",
        "from dateutil import relativedelta\n",
        "\n",
        "def interest_finder(months):\n",
        "  principal_amount = 1000\n",
        "  rate = 1.4\n",
        "  simple_interest = (principal_amount * rate * months / 12 ) / 100\n",
        "  return principal_amount + simple_interest\n",
        "\n",
        "inflation_date = '09-30-2022'\n",
        "current_date = date.today().strftime(\"%m-%d-%Y\")\n",
        "start_date = datetime.strptime(current_date, \"%m-%d-%Y\")\n",
        "previous_date = datetime.strptime(inflation_date, '%m-%d-%Y')\n",
        "difference = relativedelta.relativedelta(start_date,previous_date)\n",
        "total_month = difference.months + difference.years * 12\n",
        "savings = interest_finder(total_month)\n",
        "print(\"Current Amount calculated using difference in months: \", savings)\n",
        "\n"
      ],
      "metadata": {
        "colab": {
          "base_uri": "https://localhost:8080/"
        },
        "id": "nuziCMWdrZQk",
        "outputId": "256ce8fe-97b6-4f47-9eb3-85c24b0b1441"
      },
      "execution_count": 29,
      "outputs": [
        {
          "output_type": "stream",
          "name": "stdout",
          "text": [
            "Current Amount calculated using difference in months:  1018.6666666666666\n"
          ]
        }
      ]
    },
    {
      "cell_type": "code",
      "source": [
        "from datetime import datetime, date\n",
        "primary_savings = 1000\n",
        "inflation_rate = 0.014\n",
        "\n",
        "inflation_date = '09-30-2022'\n",
        "current_date = date.today().strftime(\"%m-%d-%Y\")\n",
        "start_date = datetime.strptime(current_date, \"%m-%d-%Y\")\n",
        "previous_date = datetime.strptime(inflation_date, '%m-%d-%Y')\n",
        "inflation_days = (start_date - previous_date).days\n",
        "inflation_years = inflation_days / 365\n",
        "current_savings = primary_savings * ((1 + inflation_rate) ** inflation_years)\n",
        "print(\"Current Savings calculated till date:\",current_savings)"
      ],
      "metadata": {
        "colab": {
          "base_uri": "https://localhost:8080/"
        },
        "id": "FWgy7_GpA-QW",
        "outputId": "3bfddc19-e4e4-4cae-c90d-a5662821d7ed"
      },
      "execution_count": 28,
      "outputs": [
        {
          "output_type": "stream",
          "name": "stdout",
          "text": [
            "Current Savings calculated till date: 1019.2275898505958\n"
          ]
        }
      ]
    }
  ]
}